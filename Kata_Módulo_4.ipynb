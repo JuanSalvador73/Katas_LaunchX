{
  "nbformat": 4,
  "nbformat_minor": 0,
  "metadata": {
    "colab": {
      "name": "Kata_Módulo_4.ipynb",
      "provenance": [],
      "collapsed_sections": []
    },
    "kernelspec": {
      "name": "python3",
      "display_name": "Python 3"
    },
    "language_info": {
      "name": "python"
    }
  },
  "cells": [
    {
      "cell_type": "markdown",
      "source": [
        "***----------Kata Módulo 4----------***"
      ],
      "metadata": {
        "id": "zh8OkD03T-Bk"
      }
    },
    {
      "cell_type": "code",
      "source": [
        "# Kata 4\n",
        "print(\"\\nEjercicio 1: Transformar cadenas:\\n\")\n",
        "\n",
        "text = \"\"\"Interesting facts about the Moon. The Moon is Earth's only satellite. There are several interesting facts about the Moon and how it affects life here on Earth. \n",
        "On average, the Moon moves 4cm away from the Earth every year. This yearly drift is not significant enough to cause immediate effects on Earth. The highest daylight temperature of the Moon is 127 C.\"\"\"\n",
        "\n",
        "\n",
        "print(text)\n",
        "\n",
        "print(\"\\n1.-Primero, divide el texto en cada oración para trabajar con su contenido:\\n\")\n",
        "print(text.split())\n",
        "print(\"\\n2.-Define las palabras pista: average, temperature y distance suenan bien:\\n\")\n",
        "print(\"average\" in text)\n",
        "print(\"temperature\" in text)\n",
        "print(\"distance\" in text)\n",
        "print(\"\\n3.-Crea un bucle para imprimir solo datos sobre la Luna que estén relacionados con las palabras clave definidas anteriormente:\\n\")\n",
        "\n",
        "for item in text.split():\n",
        "  if item.isnumeric():\n",
        "    print(item)\n",
        "\n",
        "print(\"\\n4.-Finalmente, actualiza el bucle(ciclo) para cambiar C a Celsius:\\n\")\n",
        "print(text.replace(\"C\", \"Celsius\"))\n",
        "\n",
        "print(\"\\nEjercicio 2: Formateando Cadenas:\\n\")\n",
        "\n",
        "# Datos con los que vas a trabajar\n",
        "name = \"Luna\"\n",
        "gravity = 0.00162 # in kms\n",
        "planet = \"Tierra\"\n",
        "\n",
        "\n",
        "# Creamos el título\n",
        "titulo = f\"La gravedad en la {planet} y la {name}\"\n",
        "titulo.title()\n",
        "\n",
        "\n",
        "# Creamos la plantilla\n",
        "plantilla = f\"\"\" Nombre del Planeta: {planet}\n",
        "Gravedad en {name}: {gravity * 1000} m/s2\"\"\"\n",
        "\n",
        "\n",
        "# Unión de ambas cadenas\n",
        "union = f\"\"\" {titulo.title()}\n",
        "{plantilla}\n",
        " \"\"\"\n",
        "\n",
        "# Comprueba la plantilla\n",
        "print(plantilla)\n",
        "\n",
        "\n",
        "#Datos muestra:\n",
        "planet = 'Marte '\n",
        "gravity  = 0.00143\n",
        "name = 'Ganímedes'\n",
        "# print(nombre_plantilla)\n",
        "print(\"\\nVa a imprimir los mismos datos:\\n\")\n",
        "print(plantilla)\n",
        "\n",
        "\n",
        "# Nueva plantilla\n",
        "print(\"\\n\")\n",
        "plantilla = f\"\"\" Nombre del Planeta: {planet}\n",
        "Gravedad en {name}: {gravity * 1000} m/s2\"\"\"\n",
        "\n",
        "\n",
        "# Pista: print(nueva_plantilla.format(variables))\n",
        "print(\"\\nimprime nuevos datos:\\n\")\n",
        "print(plantilla)\n",
        "\n",
        "\n"
      ],
      "metadata": {
        "id": "0por8uDRUAHU"
      },
      "execution_count": null,
      "outputs": []
    }
  ]
}