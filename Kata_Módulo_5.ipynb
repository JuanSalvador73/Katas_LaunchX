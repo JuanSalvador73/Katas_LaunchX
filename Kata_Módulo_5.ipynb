{
  "nbformat": 4,
  "nbformat_minor": 0,
  "metadata": {
    "colab": {
      "name": "Kata_Módulo_5.ipynb",
      "provenance": [],
      "collapsed_sections": []
    },
    "kernelspec": {
      "name": "python3",
      "display_name": "Python 3"
    },
    "language_info": {
      "name": "python"
    }
  },
  "cells": [
    {
      "cell_type": "markdown",
      "source": [
        "***----------Kata Módulo 5----------***"
      ],
      "metadata": {
        "id": "Jv6MLdl_1tq1"
      }
    },
    {
      "cell_type": "code",
      "source": [
        "#Kata 5\n",
        "data = 1042 / 60 #get minutes\n",
        "print(data)\n",
        "data2 = 1042 // 60 #redondea hacia abajo\n",
        "print(data2)\n",
        "data3 = 1042 % 60 #get seconds\n",
        "print(data3)\n",
        "print(str(data2) + \",\" + str(data3)) #"
      ],
      "metadata": {
        "colab": {
          "base_uri": "https://localhost:8080/"
        },
        "id": "XNZCSPca1vwr",
        "outputId": "13eb63c5-eccb-4048-e68e-8b14f0f61e12"
      },
      "execution_count": null,
      "outputs": [
        {
          "output_type": "stream",
          "name": "stdout",
          "text": [
            "17.366666666666667\n",
            "17\n",
            "22\n",
            "17,22\n"
          ]
        }
      ]
    },
    {
      "cell_type": "code",
      "source": [
        "print(\"\\nEjercicio 1 - Utilizar operadores aritméticos:\\n\")\n",
        "\n",
        "distanciaTierra = 149597870 \n",
        "distanciaJupiter = 778547200\n",
        "distanciaPlanetasKm = distanciaJupiter - distanciaTierra\n",
        "print(\"Distancia en kilómetros:\", distanciaPlanetasKm)\n",
        "print(\"Conversión a Millas:\", distanciaPlanetasKm * 0.621)\n",
        "\n",
        "\n",
        "print(\"\\nEjercicio 2: convierte cadenas en números y usa valores absolutos\\n\")\n",
        "\n",
        "#Pedimos al usuario los datos de 2 planetas, y comprobamos si son números\n",
        "distanciaPlanetaUno = input(\"Dame la distancia del primer Planeta: \")\n",
        "while distanciaPlanetaUno.isdigit() == False:\n",
        "  distanciaPlanetaUno = input(\"Dame la distancia del primer Planeta: \")\n",
        "\n",
        "distanciaPlanetaUno = int(distanciaPlanetaUno)\n",
        "\n",
        "distanciaPlanetaDos = input(\"Dame la distancia del segundo Planeta: \")\n",
        "while distanciaPlanetaDos.isdigit() == False:\n",
        "  distanciaPlanetaDos = input(\"Dame la distancia del segundo Planeta: \")\n",
        "\n",
        "distanciaPlanetaDos = int(distanciaPlanetaDos)\n",
        "\n",
        "#Realizamos la operación\n",
        "distanciaEntrePlanetasKm = distanciaPlanetaUno - distanciaPlanetaDos\n",
        "print(\"La distancia en Km entre los planetas es: \" , abs(distanciaPlanetasKm))\n",
        "distanciaPlanetasMillas = distanciaPlanetasKm * 0.621\n",
        "print(\"La distancia en Millas entre planetas es: \" , distanciaPlanetasMillas)\n",
        "\n"
      ],
      "metadata": {
        "colab": {
          "base_uri": "https://localhost:8080/"
        },
        "id": "0kniw4m1QsWj",
        "outputId": "c643b5ab-1ae4-40ad-9453-ddb680739bb7"
      },
      "execution_count": null,
      "outputs": [
        {
          "output_type": "stream",
          "name": "stdout",
          "text": [
            "\n",
            "Ejercicio 1 - Utilizar operadores aritméticos:\n",
            "\n",
            "Distancia en kilómetros: 628949330\n",
            "Conversión a Millas: 390577533.93\n",
            "\n",
            "Ejercicio 2: convierte cadenas en números y usa valores absolutos\n",
            "\n",
            "Dame la distancia del primer Planeta: dsfdsf\n",
            "Dame la distancia del primer Planeta: 57900000\n",
            "Dame la distancia del segundo Planeta: sdfd\n",
            "Dame la distancia del segundo Planeta: 108200000\n",
            "La distancia en Km entre los planetas es:  628949330\n",
            "La distancia en Millas entre planetas es:  390577533.93\n"
          ]
        }
      ]
    }
  ]
}