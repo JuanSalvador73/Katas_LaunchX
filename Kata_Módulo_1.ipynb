{
  "nbformat": 4,
  "nbformat_minor": 0,
  "metadata": {
    "colab": {
      "name": "Kata_Módulo_1.ipynb",
      "provenance": [],
      "collapsed_sections": []
    },
    "kernelspec": {
      "name": "python3",
      "display_name": "Python 3"
    },
    "language_info": {
      "name": "python"
    }
  },
  "cells": [
    {
      "cell_type": "markdown",
      "source": [
        "***----------Kata Módulo 1----------***"
      ],
      "metadata": {
        "id": "e7acdwB7l2Yp"
      }
    },
    {
      "cell_type": "code",
      "source": [
        "#Date Establecer Fecha\n",
        "from datetime import date\n",
        "\n",
        "date.today()\n",
        "print(\"La fecha de hoy es: \" + str(date.today())) #Convertimos a string la fecha para poder concatenarlo con string."
      ],
      "metadata": {
        "colab": {
          "base_uri": "https://localhost:8080/"
        },
        "id": "BhldWAoYiAUo",
        "outputId": "72d94a4b-abae-41bf-9bc0-9dacee5859fc"
      },
      "execution_count": null,
      "outputs": [
        {
          "output_type": "stream",
          "name": "stdout",
          "text": [
            "La fecha de hoy es: 2022-02-12\n"
          ]
        }
      ]
    },
    {
      "cell_type": "markdown",
      "source": [
        "**Tu primer programa **\n",
        "Escribe la Fecha de hoy."
      ],
      "metadata": {
        "id": "MmJxJPVcpHeo"
      }
    },
    {
      "cell_type": "code",
      "source": [
        "#Date\n",
        "from datetime import date\n",
        "\n",
        "#Preguntamos al usuario su elección\n",
        "pregunta = input(\"¿Quieres saber la fecha de hoy? Si, No: \")\n",
        "#Convertimos la respuesta a Mayúsculas para homogeneizar el string\n",
        "pregunta = pregunta.upper()\n",
        "if pregunta == \"SI\":\n",
        "  print(\"La fecha de hoy es: \" + str(date.today()))\n",
        "elif pregunta == \"NO\":\n",
        "  print(\"Has elegido no saber la fecha de hoy\")\n",
        "else:\n",
        "  print(\"La respuesta no puede ser computada\")\n"
      ],
      "metadata": {
        "colab": {
          "base_uri": "https://localhost:8080/"
        },
        "id": "Srp06sSipPAW",
        "outputId": "194f474f-5750-4863-e2cd-39aeea38c152"
      },
      "execution_count": null,
      "outputs": [
        {
          "output_type": "stream",
          "name": "stdout",
          "text": [
            "¿Quieres saber la fecha de hoy? Si, No: no\n",
            "Has elegido no saber la fecha de hoy\n"
          ]
        }
      ]
    },
    {
      "cell_type": "markdown",
      "source": [
        "**Construir un convertidor de unidades**\n",
        "Convertir parsecs a años luz y viceversa"
      ],
      "metadata": {
        "id": "RzUQL-6stAXr"
      }
    },
    {
      "cell_type": "code",
      "source": [
        "#Le solicitamos al Usuario que escriba el número de parsecs y años luz a convertir\n",
        "print(\"Convertir AñosLuz y Parsecs, escriba los datos:\")\n",
        "\n",
        "dataParsec = input(\"Número de Parsecs: \")\n",
        "\n",
        "#Comprobamos que los datos sean numéricos\n",
        "while dataParsec.isdigit() == False:\n",
        "  dataParsec = input(\"Número de Parsecs: \")\n",
        "\n",
        "dataLightYear = input(\"Número de AñosLuz: \")\n",
        "\n",
        "while dataLightYear.isdigit() == False:\n",
        "  dataLightYear = input(\"Número de AñosLuz: \")\n",
        "  \n",
        "#Con los datos numéricos, pedimos escoger una operación\n",
        "question = input(\"Escoge, A)-AñosLuz a Parsecs, B)-Parsecs a AñosLuz: \")\n",
        "#Convertimos a mayúsculas el string para homogeneizar la elección del usuario\n",
        "question = question.upper()\n",
        "lightYear = 3.26156\n",
        "\n",
        "if question == \"A\":\n",
        "  convertlightYear = int(dataParsec) / int(dataLightYear)\n",
        "  print(\"Conversión a Parsecs: \", str(convertlightYear))\n",
        "elif question == \"B\":\n",
        "  convertParsec = int(dataParsec) * int(dataLightYear)\n",
        "  print(\"Conversión a AñoLuz: \", str(convertParsec))\n",
        "else:\n",
        "  print(\"El dato de entrada es erróneo\")\n",
        "\n",
        "\n"
      ],
      "metadata": {
        "id": "OF9cmJ1Na3n2"
      },
      "execution_count": null,
      "outputs": []
    }
  ]
}