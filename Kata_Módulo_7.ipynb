{
  "nbformat": 4,
  "nbformat_minor": 0,
  "metadata": {
    "colab": {
      "name": "Kata_Módulo_7.ipynb",
      "provenance": [],
      "collapsed_sections": []
    },
    "kernelspec": {
      "name": "python3",
      "display_name": "Python 3"
    },
    "language_info": {
      "name": "python"
    }
  },
  "cells": [
    {
      "cell_type": "markdown",
      "source": [
        "***----------Kata Módulo 7----------***"
      ],
      "metadata": {
        "id": "TUlr39XmuZ-i"
      }
    },
    {
      "cell_type": "code",
      "source": [
        "#Kata 7\n",
        "print(\"Ejercicio 1: Creación de un bucle 'while\\n'\")\n",
        "\n",
        "nuevo_planeta = \"\" #variable para preguntar planetas\n",
        "planetas = [] #Lista de Planetas\n",
        "\n",
        "while nuevo_planeta != \"done\":\n",
        "  if nuevo_planeta:\n",
        "    planetas.append(nuevo_planeta)\n",
        "  nuevo_planeta = input(\"Ingrese nombre de planeta: \")\n",
        "  nuevo_planeta = nuevo_planeta.lower()\n",
        "  #\n",
        "  for i in range(len(planetas)):\n",
        "    planetas[i] = planetas[i].capitalize()\n",
        "  #\n",
        "print(\"Los planetas ingresados son:\", planetas)\n",
        "\n",
        "print(\"\\nEjercicio 2: Creación de un ciclo 'for'\\n'\")\n",
        "for planeta in planetas:\n",
        "  print(\"El Planeta ingresado es: \",planeta)\n"
      ],
      "metadata": {
        "colab": {
          "base_uri": "https://localhost:8080/"
        },
        "id": "W-fnU67tuby4",
        "outputId": "f08d4ae1-62f9-4ac4-e31a-595f0129ecd4"
      },
      "execution_count": null,
      "outputs": [
        {
          "output_type": "stream",
          "name": "stdout",
          "text": [
            "Ejercicio 1: Creación de un bucle 'while\n",
            "'\n",
            "Ingrese nombre de planeta: jupiter\n",
            "Ingrese nombre de planeta: marte\n",
            "Ingrese nombre de planeta: tierra\n",
            "Ingrese nombre de planeta: done\n",
            "Los planetas ingresados son: ['Jupiter', 'Marte', 'Tierra']\n",
            "\n",
            "Ejercicio 2: Creación de un ciclo 'for'\n",
            "'\n",
            "El Planeta ingresado es:  Jupiter\n",
            "El Planeta ingresado es:  Marte\n",
            "El Planeta ingresado es:  Tierra\n"
          ]
        }
      ]
    }
  ]
}