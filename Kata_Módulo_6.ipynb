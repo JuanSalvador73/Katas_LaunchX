{
  "nbformat": 4,
  "nbformat_minor": 0,
  "metadata": {
    "colab": {
      "name": "Kata_Módulo_6.ipynb",
      "provenance": [],
      "collapsed_sections": []
    },
    "kernelspec": {
      "name": "python3",
      "display_name": "Python 3"
    },
    "language_info": {
      "name": "python"
    }
  },
  "cells": [
    {
      "cell_type": "markdown",
      "source": [
        "***----------Kata Módulo 6----------***"
      ],
      "metadata": {
        "id": "toKZstjoePow"
      }
    },
    {
      "cell_type": "code",
      "source": [
        "#Kata 6\n",
        "\n",
        "print(\"Ejercicio1: Crear y usar listas de Python\\n\")\n",
        "\n",
        "# Creamos la lista planetas y la mostramos\n",
        "planetas = [\"Mercurio\", \"Venus\", \"Tierra\", \"Marte\", \"Júpiter\", \"Saturno\", \"Urano\", \"Neptuno\"]\n",
        "print(planetas)\n",
        "\n",
        "# Agregamos a plutón y mostramos el último elemento\n",
        "planetas.append(\"Pluton\")\n",
        "print(planetas)\n",
        "print(len(planetas))\n",
        "print(planetas[-1])\n",
        "\n",
        "print(\"\\nEjercicio 2: Trabajando con datos de una lista\\n\")\n",
        "\n",
        "#convertimos a minúsculas los objetos en la Lista\n",
        "for i in range(len(planetas)):\n",
        "  planetas[i] = planetas[i].lower()\n",
        "#print(planetas)\n",
        "\n",
        "#Pedimos al Usuario escriba un planeta\n",
        "planetaDeseado = input(\"Escriba el nombre de un planeta: \")\n",
        "while planetaDeseado not in planetas:\n",
        "  planetaDeseado = input(\"Escriba el nombre de un planeta: \")\n",
        "\n",
        "planetaDeseado = planetaDeseado.lower()\n",
        "#Hacemos Capitalize a cada elemento de la Lista\n",
        "for i in range(len(planetas)):\n",
        "  planetas[i] = planetas[i].capitalize()\n",
        "#Capitalize al planeta del usuario\n",
        "planetaDeseado = planetaDeseado.capitalize()\n",
        "\n",
        "print(\"El planeta escogido es: \", planetaDeseado)\n",
        "planetaIndex = planetas.index(planetaDeseado)\n",
        "print(\"Planeta Deseado en Index es: \", planetaIndex)\n",
        "planetasLejosSol = planetaIndex + 1\n",
        "planetasLejos = planetas[planetasLejosSol:8]\n",
        "planetasCerca = planetas[0:planetaIndex]\n",
        "\n",
        "print(\"Los planetas alejados del Sol son:\", planetasLejos)\n",
        "\n",
        "if planetaIndex == 0:\n",
        "  print(\"No hay planetas mas cerca de Mercurio\")\n",
        "else:\n",
        "  print(\"Los planetas cercanos al Sol son:\", planetasCerca)\n"
      ],
      "metadata": {
        "id": "X4qGCcJdeRD3",
        "colab": {
          "base_uri": "https://localhost:8080/"
        },
        "outputId": "9eec03d9-7426-4b99-a6a1-f8e7638263fd"
      },
      "execution_count": null,
      "outputs": [
        {
          "output_type": "stream",
          "name": "stdout",
          "text": [
            "Ejercicio1: Crear y usar listas de Python\n",
            "\n",
            "['Mercurio', 'Venus', 'Tierra', 'Marte', 'Júpiter', 'Saturno', 'Urano', 'Neptuno']\n",
            "['Mercurio', 'Venus', 'Tierra', 'Marte', 'Júpiter', 'Saturno', 'Urano', 'Neptuno', 'Pluton']\n",
            "9\n",
            "Pluton\n",
            "\n",
            "Ejercicio 2: Trabajando con datos de una lista\n",
            "\n",
            "Escriba el nombre de un planeta: mercurio\n",
            "El planeta escogido es:  Mercurio\n",
            "Planeta Deseado en Index es:  0\n",
            "Los planetas alejados del Sol son: ['Venus', 'Tierra', 'Marte', 'Júpiter', 'Saturno', 'Urano', 'Neptuno']\n",
            "No hay planetas mas cerca de Mercurio\n"
          ]
        }
      ]
    }
  ]
}