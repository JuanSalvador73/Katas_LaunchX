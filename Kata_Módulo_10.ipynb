{
  "nbformat": 4,
  "nbformat_minor": 0,
  "metadata": {
    "colab": {
      "name": "Kata_Módulo_10.ipynb",
      "provenance": [],
      "collapsed_sections": []
    },
    "kernelspec": {
      "name": "python3",
      "display_name": "Python 3"
    },
    "language_info": {
      "name": "python"
    }
  },
  "cells": [
    {
      "cell_type": "markdown",
      "source": [
        "***----------Kata Módulo 10----------***"
      ],
      "metadata": {
        "id": "3WhTykqpBCJ2"
      }
    },
    {
      "cell_type": "code",
      "source": [
        "#Kata 10\n",
        "def water_left(astronauts, water_left, days_left):\n",
        "    for argument in [astronauts, water_left, days_left]:\n",
        "        try:\n",
        "            # If argument is an int, the following operation will work\n",
        "            argument / 10\n",
        "        except TypeError:\n",
        "            # TypError will be raised only if it isn't the right type \n",
        "            # Raise the same exception but with a better error message\n",
        "            raise TypeError(f\"All arguments must be of type int, but received: '{argument}'\")\n",
        "    daily_usage = astronauts * 11\n",
        "    total_usage = daily_usage * days_left\n",
        "    total_water_left = water_left - total_usage\n",
        "    if total_water_left < 0:\n",
        "      raise RuntimeError(f\"There is not enough water for {astronauts} astronauts after {days_left} days!\")\n",
        "    return f\"Total water left after {days_left} days is: {total_water_left} liters\"\n",
        "\n",
        "water_left(5, 100, 2)\n"
      ],
      "metadata": {
        "colab": {
          "base_uri": "https://localhost:8080/",
          "height": 323
        },
        "id": "DbEwyQYtBE0V",
        "outputId": "32af0c97-62fe-4029-ef21-b5a5f5cb5718"
      },
      "execution_count": null,
      "outputs": [
        {
          "output_type": "error",
          "ename": "RuntimeError",
          "evalue": "ignored",
          "traceback": [
            "\u001b[0;31m---------------------------------------------------------------------------\u001b[0m",
            "\u001b[0;31mRuntimeError\u001b[0m                              Traceback (most recent call last)",
            "\u001b[0;32m<ipython-input-41-d6d21c5b6054>\u001b[0m in \u001b[0;36m<module>\u001b[0;34m()\u001b[0m\n\u001b[1;32m     16\u001b[0m     \u001b[0;32mreturn\u001b[0m \u001b[0;34mf\"Total water left after {days_left} days is: {total_water_left} liters\"\u001b[0m\u001b[0;34m\u001b[0m\u001b[0;34m\u001b[0m\u001b[0m\n\u001b[1;32m     17\u001b[0m \u001b[0;34m\u001b[0m\u001b[0m\n\u001b[0;32m---> 18\u001b[0;31m \u001b[0mwater_left\u001b[0m\u001b[0;34m(\u001b[0m\u001b[0;36m5\u001b[0m\u001b[0;34m,\u001b[0m \u001b[0;36m100\u001b[0m\u001b[0;34m,\u001b[0m \u001b[0;36m2\u001b[0m\u001b[0;34m)\u001b[0m\u001b[0;34m\u001b[0m\u001b[0;34m\u001b[0m\u001b[0m\n\u001b[0m",
            "\u001b[0;32m<ipython-input-41-d6d21c5b6054>\u001b[0m in \u001b[0;36mwater_left\u001b[0;34m(astronauts, water_left, days_left)\u001b[0m\n\u001b[1;32m     13\u001b[0m     \u001b[0mtotal_water_left\u001b[0m \u001b[0;34m=\u001b[0m \u001b[0mwater_left\u001b[0m \u001b[0;34m-\u001b[0m \u001b[0mtotal_usage\u001b[0m\u001b[0;34m\u001b[0m\u001b[0;34m\u001b[0m\u001b[0m\n\u001b[1;32m     14\u001b[0m     \u001b[0;32mif\u001b[0m \u001b[0mtotal_water_left\u001b[0m \u001b[0;34m<\u001b[0m \u001b[0;36m0\u001b[0m\u001b[0;34m:\u001b[0m\u001b[0;34m\u001b[0m\u001b[0;34m\u001b[0m\u001b[0m\n\u001b[0;32m---> 15\u001b[0;31m       \u001b[0;32mraise\u001b[0m \u001b[0mRuntimeError\u001b[0m\u001b[0;34m(\u001b[0m\u001b[0;34mf\"There is not enough water for {astronauts} astronauts after {days_left} days!\"\u001b[0m\u001b[0;34m)\u001b[0m\u001b[0;34m\u001b[0m\u001b[0;34m\u001b[0m\u001b[0m\n\u001b[0m\u001b[1;32m     16\u001b[0m     \u001b[0;32mreturn\u001b[0m \u001b[0;34mf\"Total water left after {days_left} days is: {total_water_left} liters\"\u001b[0m\u001b[0;34m\u001b[0m\u001b[0;34m\u001b[0m\u001b[0m\n\u001b[1;32m     17\u001b[0m \u001b[0;34m\u001b[0m\u001b[0m\n",
            "\u001b[0;31mRuntimeError\u001b[0m: There is not enough water for 5 astronauts after 2 days!"
          ]
        }
      ]
    }
  ]
}