{
  "nbformat": 4,
  "nbformat_minor": 0,
  "metadata": {
    "colab": {
      "name": "Kata_Módulo_8.ipynb",
      "provenance": [],
      "collapsed_sections": []
    },
    "kernelspec": {
      "name": "python3",
      "display_name": "Python 3"
    },
    "language_info": {
      "name": "python"
    }
  },
  "cells": [
    {
      "cell_type": "markdown",
      "source": [
        "***----------Kata Módulo 8----------***"
      ],
      "metadata": {
        "id": "4ONGP5-WIcHR"
      }
    },
    {
      "cell_type": "code",
      "source": [
        "#Kata 8\n",
        "print(\"Ejercicio 1: Creación de diccionarios de Python\\n\")\n",
        "#Ejercicio: Crear y modificar un diccionario de Python\n",
        "\n",
        "planetaSistema = {\n",
        "    \"nombre\": \"Marte\",\n",
        "    \"lunas\": 2\n",
        "}\n",
        "\n",
        "print(\"Método con get:\", planetaSistema.get(\"nombre\"))\n",
        "print(\"Método normal:\", planetaSistema[\"lunas\"])\n",
        "print(planetaSistema[\"lunas\"])\n",
        "\n",
        "planetaSistema[\"Circunferencia (km)\"] = {\n",
        "    \"polar\": 6752,\n",
        "    \"equatorial\": 6792\n",
        "}\n",
        "\n",
        "print(planetaSistema)\n",
        "print(f'{planetaSistema[\"nombre\"]} Circunferencia equatorial:{planetaSistema[\"Circunferencia (km)\"][\"equatorial\"]}')\n",
        "\n",
        "\n",
        "\n",
        "print(\"\\nEjercicio 2: Programación dinámica con diccionarios\\n\")\n",
        "\n",
        "planetas_lunas = {\n",
        "    'mercury': 0,\n",
        "    'venus': 0,\n",
        "    'earth': 1,\n",
        "    'mars': 2,\n",
        "    'jupiter': 79,\n",
        "    'saturn': 82,\n",
        "    'uranus': 27,\n",
        "    'neptune': 14,\n",
        "    'pluto': 5,\n",
        "    'haumea': 2,\n",
        "    'makemake': 1,\n",
        "    'eris': 1\n",
        "}\n",
        "\n",
        "#Guardamos el Número de planetas en una variable e imprimimos\n",
        "planetasLunas = len(planetas_lunas)\n",
        "print(\"Número de planetas en Lista: \", planetasLunas)\n",
        "\n",
        "#Variable de Número de Lunas\n",
        "total_Lunas = 0\n",
        "\n",
        "for valor in planetas_lunas.values():\n",
        "  total_Lunas = total_Lunas + valor\n",
        "\n",
        "print(\"El Total de Lunas en los Planetas es: \",total_Lunas)\n",
        "promedioLunas = total_Lunas / planetasLunas\n",
        "print(\"El promedio de lunas por planeta es: \", promedioLunas)\n"
      ],
      "metadata": {
        "colab": {
          "base_uri": "https://localhost:8080/"
        },
        "id": "tcMToco_-mqN",
        "outputId": "4433e5a3-52c3-4ed3-a862-108e5d365151"
      },
      "execution_count": null,
      "outputs": [
        {
          "output_type": "stream",
          "name": "stdout",
          "text": [
            "Ejercicio 1: Creación de diccionarios de Python\n",
            "\n",
            "Método con get: Marte\n",
            "Método normal: 2\n",
            "2\n",
            "{'nombre': 'Marte', 'lunas': 2, 'Circunferencia (km)': {'polar': 6752, 'equatorial': 6792}}\n",
            "Marte Circunferencia equatorial:6792\n",
            "\n",
            "Ejercicio 2: Programación dinámica con diccionarios\n",
            "\n",
            "Número de planetas en Lista:  12\n",
            "El Total de Lunas en los Planetas es:  214\n",
            "El promedio de lunas por planeta es:  17.833333333333332\n"
          ]
        }
      ]
    }
  ]
}