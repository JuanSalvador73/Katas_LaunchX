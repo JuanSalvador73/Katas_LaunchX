{
  "nbformat": 4,
  "nbformat_minor": 0,
  "metadata": {
    "colab": {
      "name": "Kata_Módulo_3.ipynb",
      "provenance": [],
      "collapsed_sections": []
    },
    "kernelspec": {
      "name": "python3",
      "display_name": "Python 3"
    },
    "language_info": {
      "name": "python"
    }
  },
  "cells": [
    {
      "cell_type": "markdown",
      "source": [
        "***----------Kata Módulo 3----------***"
      ],
      "metadata": {
        "id": "3dt5egGQm-1F"
      }
    },
    {
      "cell_type": "markdown",
      "source": [
        "Un Asteroide se acerca a la Tierra. Por favor escribe la velocidad a la que se acerca al globo terrestre."
      ],
      "metadata": {
        "id": "2V3Oqj0Sp05R"
      }
    },
    {
      "cell_type": "code",
      "source": [
        "#Módulo 3\n",
        "#datoNumerico = False\n",
        "velocidadAst = 25\n",
        "\n",
        "#1.-Solicitamos el dato del Usuario\n",
        "datoNumerico = input(\"Escribe la Velocidad del Asteroide: \")\n",
        "while datoNumerico.isdigit() == False:\n",
        "  datoNumerico = input(\"Escribe la Velocidad del Asteroide: \")\n",
        "\n",
        "datoNumerico = int(datoNumerico)\n",
        "\n",
        "#2.-Otorgamos la sentencia de acuerdo al dato otorgado\n",
        "if datoNumerico < velocidadAst:\n",
        "  print(\"La velocidad del Asteroide no es un peligro para la Tierra\")\n",
        "elif datoNumerico == velocidadAst:\n",
        "  print(\"La velocidad del Asteroide no es un peligro pero se aconseja vigilarlo\")\n",
        "elif datoNumerico > velocidadAst:\n",
        "  print(\"La velocidad del Asteroide es un peligro para la Tierra, ¡ALERTA ROJA!\")\n",
        "else:\n",
        "  print(\"El dato no es computable\")\n",
        "\n",
        "\n",
        "\n",
        "\n",
        "\n"
      ],
      "metadata": {
        "id": "S7okp3PvnC8d"
      },
      "execution_count": null,
      "outputs": []
    },
    {
      "cell_type": "markdown",
      "source": [
        "Escribe la velocidad del Asteroide al acercarse a la Tierra para ver si es posible ver su \"Rayo de Luz\" si se acerca a una distancia aproximada."
      ],
      "metadata": {
        "id": "jV1cSDD2BjuB"
      }
    },
    {
      "cell_type": "code",
      "source": [
        "#distanciaTierra = False\n",
        "velocidadAst = 20\n",
        "\n",
        "asteroideVelocidad = input(\"Escribe la velocidad del Asteroide: \")\n",
        "\n",
        "while asteroideVelocidad.isdigit() == False:\n",
        "  asteroideVelocidad = input(\"Escribe la velocidad del Asteroide: \")\n",
        "\n",
        "asteroideVelocidad = int(asteroideVelocidad)\n",
        "  \n",
        "if asteroideVelocidad < velocidadAst:\n",
        "  print(\"No será visible su haz de luz en la atmósfera terrestre\")\n",
        "elif asteroideVelocidad >= velocidadAst:\n",
        "  print(\"El haz de luz será visible en la atmósfera terrestre\")\n",
        "else:\n",
        "  print(\"El dato no es computable\")\n",
        "\n",
        "\n",
        "\n",
        "\n",
        "\n"
      ],
      "metadata": {
        "id": "o6Z3LxFkCJjh"
      },
      "execution_count": null,
      "outputs": []
    },
    {
      "cell_type": "markdown",
      "source": [
        "Un Asteroide se aproxima a la Tierra. Escribe los datos de su tamaño y velocidad a la que se aproxima para obtener advertencias."
      ],
      "metadata": {
        "id": "n_vecdNsO10L"
      }
    },
    {
      "cell_type": "code",
      "source": [
        "\n",
        "velocidadAsteroide = input(\"Escribe la Velocidad del Asteroide: \")\n",
        "while velocidadAsteroide.isdigit() == False:\n",
        "  velocidadAsteroide = input(\"Escribe la Velocidad del Asteroide: \")\n",
        "\n",
        "velocidadAsteroide = int(velocidadAsteroide)\n",
        "\n",
        "dimensionAsteroide = input(\"Escribe el Tamaño del Asteroide: \")\n",
        "while dimensionAsteroide.isdigit() == False:\n",
        "  dimensionAsteroide = input(\"Escribe el Tamaño del Asteroide: \")\n",
        "\n",
        "dimensionAsteroide = int(dimensionAsteroide)\n",
        "\n",
        "if velocidadAsteroide < 25:\n",
        "  if dimensionAsteroide < 25:\n",
        "    print(\"El Asteroide no es un peligro para la Tierra\")\n",
        "  else: \n",
        "    print(\"El Asteroide es un peligro para la Tierra\")\n",
        "elif velocidadAsteroide >= 20:\n",
        "  print(\"El Asteroide es un peligro \\ny proyectará un haz de luz en la atmósfera terrestre\")\n",
        "elif velocidadAsteroide > 25:\n",
        "  print(\"El planeta Tierra corre peligro\")\n",
        "else:\n",
        "  print(\"Dato no computable\")\n",
        "\n",
        "\n"
      ],
      "metadata": {
        "id": "Vt66F5bIPM9M"
      },
      "execution_count": null,
      "outputs": []
    }
  ]
}