{
  "nbformat": 4,
  "nbformat_minor": 0,
  "metadata": {
    "colab": {
      "name": "Kata_Módulo_9.ipynb",
      "provenance": [],
      "collapsed_sections": []
    },
    "kernelspec": {
      "name": "python3",
      "display_name": "Python 3"
    },
    "language_info": {
      "name": "python"
    }
  },
  "cells": [
    {
      "cell_type": "markdown",
      "source": [
        "***----------Kata Módulo 9----------***"
      ],
      "metadata": {
        "id": "MnQkxvVhPSvU"
      }
    },
    {
      "cell_type": "code",
      "source": [
        "#Kata 9\n",
        "print(\"Ejercicio 1: Trabajar con argumentos en funciones\\n\")\n",
        "def EtapasCombustible(tanque1, tanque2, tanque3):\n",
        "  promedioComb = (tanque1 + tanque2 + tanque3)/3\n",
        "  #return \"El promedio total de Combustible es: \", promedioComb\n",
        "  print(\"El promedio total de Combustible es: \", promedioComb)\n",
        "\n",
        "EtapasCombustible(3,4,5)\n",
        "\n",
        "\n",
        "valores = [23, 34, 56]\n",
        "def SumaValores(valores):\n",
        "  sumaTotal = sum(valores)\n",
        "  numeroValores = len(valores)\n",
        "  sumaPromedio = sumaTotal/numeroValores\n",
        "  return \"El promedio de valores de la Lista es: \", sumaPromedio\n",
        "\n",
        "SumaValores(valores)\n",
        "\n"
      ],
      "metadata": {
        "id": "AqhQXXZmPU-C",
        "colab": {
          "base_uri": "https://localhost:8080/"
        },
        "outputId": "c3e7dd71-36a7-4f67-d3ce-c7412d7580c0"
      },
      "execution_count": null,
      "outputs": [
        {
          "output_type": "stream",
          "name": "stdout",
          "text": [
            "Ejercicio 1: Trabajar con argumentos en funciones\n",
            "\n",
            "El promedio total de Combustible es:  4.0\n"
          ]
        },
        {
          "output_type": "execute_result",
          "data": {
            "text/plain": [
              "('El promedio de valores de la Lista es: ', 37.666666666666664)"
            ]
          },
          "metadata": {},
          "execution_count": 32
        }
      ]
    },
    {
      "cell_type": "code",
      "source": [
        "#Kata 9\n",
        "print(\"\\nEjercicio 2: Trabajo con argumentos de palabra clave\\n\")\n",
        "\n",
        "\n",
        "from datetime import timedelta, datetime\n",
        "\n",
        "def variableTest(*args):\n",
        "  print(args)\n",
        "\n",
        "variableTest(25, \"sdfdsf\") \n",
        "\n",
        "## Función con un informe preciso de la misión. Considera hora de prelanzamiento, tiempo de vuelo, destino, tanque externo y tanque interno\n",
        "\n",
        "def misionReporte(tiempoLanzamiento, tiempoVuelo, tanqueExterno, tanquePrincipal, destino):\n",
        "  print(\"El tiempo de Lanzamiento: \", tiempoLanzamiento)\n",
        "  print(\"Tiempo: \", (tiempoLanzamiento + tiempoVuelo))\n",
        "  print(\"Combustible Total: \", (tanqueExterno + tanquePrincipal))\n",
        "  print(\"El destino es: \", destino)\n",
        "\n",
        "misionReporte(7, 9, 1000, 3000, \"Venus\")\n"
      ],
      "metadata": {
        "colab": {
          "base_uri": "https://localhost:8080/"
        },
        "id": "9yJJZBCAsA39",
        "outputId": "63204b18-520e-4ee1-994b-e9ffab0d0787"
      },
      "execution_count": null,
      "outputs": [
        {
          "output_type": "stream",
          "name": "stdout",
          "text": [
            "\n",
            "Ejercicio 2: Trabajo con argumentos de palabra clave\n",
            "\n",
            "(25, 'sdfdsf')\n",
            "El tiempo de Lanzamiento:  7\n",
            "Tiempo:  16\n",
            "Combustible Total:  4000\n",
            "El destino es:  Venus\n"
          ]
        }
      ]
    }
  ]
}